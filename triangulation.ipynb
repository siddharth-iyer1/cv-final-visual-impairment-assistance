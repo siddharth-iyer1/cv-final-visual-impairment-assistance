{
 "cells": [
  {
   "cell_type": "code",
   "execution_count": 1,
   "id": "20b5e1f7",
   "metadata": {},
   "outputs": [],
   "source": [
    "import numpy as np"
   ]
  },
  {
   "cell_type": "code",
   "execution_count": 16,
   "id": "51d16c47",
   "metadata": {},
   "outputs": [],
   "source": [
    "left_camera = np.load('camera_matrix_left.npy')\n",
    "right_camera2 = np.load('camera_matrix_right.npy')"
   ]
  },
  {
   "cell_type": "code",
   "execution_count": 17,
   "id": "a377e20e",
   "metadata": {},
   "outputs": [],
   "source": [
    "def triangulate_point(P1, P2, x1, x2):\n",
    "    # Construct matrix A\n",
    "    A = np.vstack((x1[0]*P1[2] - P1[0], x1[1]*P1[2] - P1[1], x2[0]*P2[2] - P2[0], x2[1]*P2[2] - P2[1]))\n",
    "\n",
    "    # Perform Singular Value Decomposition (SVD)\n",
    "    _, _, V = np.linalg.svd(A)\n",
    "\n",
    "    # Extract the last column of V\n",
    "    X = V[-1]\n",
    "\n",
    "    # Normalize homogeneous coordinates\n",
    "    X /= X[3]\n",
    "\n",
    "    # Return the Cartesian coordinates\n",
    "    return X[:3]"
   ]
  },
  {
   "cell_type": "code",
   "execution_count": 22,
   "id": "9b89b830",
   "metadata": {},
   "outputs": [],
   "source": [
    "# Define corresponding image points x1 and x2 (2x1 vectors)\n",
    "# Random point in image, integer\n",
    "x1 = np.array([[100], [200]])\n",
    "x2 = np.array([[200], [750]])"
   ]
  },
  {
   "cell_type": "code",
   "execution_count": 24,
   "id": "58a8a35f",
   "metadata": {},
   "outputs": [
    {
     "name": "stdout",
     "output_type": "stream",
     "text": [
      "Triangulated point: [ -3.86335499  -9.72903949 -33.94350909]\n"
     ]
    }
   ],
   "source": [
    "# Triangulate the 3D point\n",
    "X = triangulate_point(camera1, camera2, x1, x2)\n",
    "print(\"Triangulated point:\", X)"
   ]
  },
  {
   "cell_type": "code",
   "execution_count": null,
   "id": "61cd9229",
   "metadata": {},
   "outputs": [],
   "source": []
  }
 ],
 "metadata": {
  "kernelspec": {
   "display_name": "Python 3 (ipykernel)",
   "language": "python",
   "name": "python3"
  },
  "language_info": {
   "codemirror_mode": {
    "name": "ipython",
    "version": 3
   },
   "file_extension": ".py",
   "mimetype": "text/x-python",
   "name": "python",
   "nbconvert_exporter": "python",
   "pygments_lexer": "ipython3",
   "version": "3.8.8"
  }
 },
 "nbformat": 4,
 "nbformat_minor": 5
}
