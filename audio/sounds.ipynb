{
 "cells": [
  {
   "cell_type": "code",
   "execution_count": 1,
   "id": "4f6c2aa2",
   "metadata": {},
   "outputs": [
    {
     "name": "stdout",
     "output_type": "stream",
     "text": [
      "Collecting simpleaudio\n",
      "  Downloading simpleaudio-1.0.4-cp38-cp38-macosx_10_9_x86_64.whl.metadata (2.2 kB)\n",
      "Downloading simpleaudio-1.0.4-cp38-cp38-macosx_10_9_x86_64.whl (2.0 MB)\n",
      "\u001b[2K   \u001b[90m━━━━━━━━━━━━━━━━━━━━━━━━━━━━━━━━━━━━━━━━\u001b[0m \u001b[32m2.0/2.0 MB\u001b[0m \u001b[31m7.6 MB/s\u001b[0m eta \u001b[36m0:00:00\u001b[0m00:01\u001b[0m00:01\u001b[0mm\n",
      "\u001b[?25hInstalling collected packages: simpleaudio\n",
      "Successfully installed simpleaudio-1.0.4\n"
     ]
    }
   ],
   "source": [
    "!pip install simpleaudio"
   ]
  },
  {
   "cell_type": "code",
   "execution_count": 9,
   "id": "967bb003",
   "metadata": {},
   "outputs": [
    {
     "name": "stdout",
     "output_type": "stream",
     "text": [
      "302.38105197476955\n",
      "359.59369845040356\n",
      "[[    0     0]\n",
      " [  280   280]\n",
      " [  559   559]\n",
      " ...\n",
      " [-3452 -3452]\n",
      " [-3828 -3828]\n",
      " [-4194 -4194]]\n"
     ]
    },
    {
     "data": {
      "image/png": "[encoded data removed]",
      "text/plain": [
       "<Figure size 432x288 with 2 Axes>"
      ]
     },
     "metadata": {
      "needs_background": "light"
     },
     "output_type": "display_data"
    }
   ],
   "source": [
    "import numpy as np\n",
    "import simpleaudio as sa\n",
    "import matplotlib.pyplot as plt\n",
    "# calculate note frequencies Hertz\n",
    "A_freq = 240\n",
    "Csh_freq = A_freq * 2 ** (4 / 12)\n",
    "\n",
    "E_freq = A_freq * 2 ** (7 / 12)\n",
    "print(Csh_freq)\n",
    "print(E_freq)\n",
    "\n",
    "# get timesteps for each sample, T is note duration in seconds\n",
    "sample_rate = 44100\n",
    "T = 1.0\n",
    "t = np.linspace(0, T, int(T * sample_rate), False)\n",
    "\n",
    "# generate sine wave notes\n",
    "A_note = np.sin(A_freq * t * 2 * np.pi)\n",
    "Csh_note = np.sin(Csh_freq * t * 2 * np.pi)\n",
    "E_note = np.sin(E_freq * t * 2 * np.pi)\n",
    "\n",
    "plt.subplot(211)\n",
    "plt.plot(A_note)\n",
    "\n",
    "# concatenate notes\n",
    "audio = np.hstack((A_note, Csh_note,E_note))\n",
    "#print(audio)\n",
    "\n",
    "# normalize audio to desired volume (0.5 is half volume)\n",
    "volume = 0.5\n",
    "audio *= volume\n",
    "\n",
    "# normalize to 16-bit range\n",
    "audio *= 32767 / 1 * np.max(np.abs(audio))\n",
    "plt.subplot(212)\n",
    "#print(audio)\n",
    "# convert to 16-bit data\n",
    "audio = audio.astype(np.int16)\n",
    "\n",
    "# create stereo signal with zeros\n",
    "stereo_signal = np.zeros([int(sample_rate*T*3),2],dtype=np.int16)   \n",
    "\n",
    "\n",
    "###CHANGE HERE FOR 0 = right, 1 = left\n",
    "# stereo_signal[:,0] = audio[:]\n",
    "stereo_signal[:, 0] = audio[:]\n",
    "stereo_signal[:, 1] = audio[:]\n",
    "print(stereo_signal)\n",
    "\n",
    "#print(audio2)\n",
    "plt.plot(audio)\n",
    "# start playback\n",
    "play_obj = sa.play_buffer(stereo_signal, 2, 2, sample_rate)\n",
    "\n",
    "#plt.show()\n",
    "# wait for playback to finish before exiting\n",
    "play_obj.wait_done()"
   ]
  },
  {
   "cell_type": "code",
   "execution_count": null,
   "id": "fd7759f5",
   "metadata": {},
   "outputs": [],
   "source": []
  },
  {
   "cell_type": "code",
   "execution_count": null,
   "id": "11073029",
   "metadata": {},
   "outputs": [],
   "source": []
  }
 ],
 "metadata": {
  "kernelspec": {
   "display_name": "Python 3 (ipykernel)",
   "language": "python",
   "name": "python3"
  },
  "language_info": {
   "codemirror_mode": {
    "name": "ipython",
    "version": 3
   },
   "file_extension": ".py",
   "mimetype": "text/x-python",
   "name": "python",
   "nbconvert_exporter": "python",
   "pygments_lexer": "ipython3",
   "version": "3.8.8"
  }
 },
 "nbformat": 4,
 "nbformat_minor": 5
}
