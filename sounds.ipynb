{
 "cells": [
  {
   "cell_type": "code",
   "execution_count": 10,
   "id": "4f6c2aa2",
   "metadata": {},
   "outputs": [
    {
     "name": "stdout",
     "output_type": "stream",
     "text": [
      "Defaulting to user installation because normal site-packages is not writeable\n",
      "Collecting simpleaudio\n",
      "  Downloading simpleaudio-1.0.4.tar.gz (2.0 MB)\n",
      "     ---------------------------------------- 0.0/2.0 MB ? eta -:--:--\n",
      "     ---------------------------------------- 0.0/2.0 MB ? eta -:--:--\n",
      "     ---------------------------------------- 0.0/2.0 MB ? eta -:--:--\n",
      "     ---------------------------------------- 0.0/2.0 MB 131.3 kB/s eta 0:00:16\n",
      "      --------------------------------------- 0.0/2.0 MB 163.8 kB/s eta 0:00:13\n",
      "      --------------------------------------- 0.0/2.0 MB 217.9 kB/s eta 0:00:10\n",
      "     -- ------------------------------------- 0.1/2.0 MB 467.6 kB/s eta 0:00:05\n",
      "     -------- ------------------------------- 0.5/2.0 MB 1.7 MB/s eta 0:00:01\n",
      "     ---------------- ----------------------- 0.8/2.0 MB 2.7 MB/s eta 0:00:01\n",
      "     ------------------------- -------------- 1.3/2.0 MB 3.6 MB/s eta 0:00:01\n",
      "     -------------------------------------- - 2.0/2.0 MB 4.8 MB/s eta 0:00:01\n",
      "     ---------------------------------------- 2.0/2.0 MB 4.6 MB/s eta 0:00:00\n",
      "  Preparing metadata (setup.py): started\n",
      "  Preparing metadata (setup.py): finished with status 'done'\n",
      "Building wheels for collected packages: simpleaudio\n",
      "  Building wheel for simpleaudio (setup.py): started\n",
      "  Building wheel for simpleaudio (setup.py): finished with status 'done'\n",
      "  Created wheel for simpleaudio: filename=simpleaudio-1.0.4-cp311-cp311-win_amd64.whl size=2039092 sha256=13b7e98d8f3e97e22c38d50b15e0d37b4bd4812d410d6e26119c454e735b29f2\n",
      "  Stored in directory: c:\\users\\kiwi\\appdata\\local\\pip\\cache\\wheels\\44\\74\\11\\9d2cf6ddf5d0dcc7750484a371b92fdb036f5496d1d4b42d08\n",
      "Successfully built simpleaudio\n",
      "Installing collected packages: simpleaudio\n",
      "Successfully installed simpleaudio-1.0.4\n"
     ]
    }
   ],
   "source": [
    "!pip install simpleaudio"
   ]
  },
  {
   "cell_type": "code",
   "execution_count": 18,
   "id": "967bb003",
   "metadata": {},
   "outputs": [
    {
     "name": "stdout",
     "output_type": "stream",
     "text": [
      "302.38105197476955\n",
      "359.59369845040356\n",
      "[[     0      0]\n",
      " [  1120      0]\n",
      " [  2239      0]\n",
      " ...\n",
      " [-13809      0]\n",
      " [-15312      0]\n",
      " [-16776      0]]\n"
     ]
    },
    {
     "data": {
      "image/png": "[encoded data removed]",
      "text/plain": [
       "<Figure size 640x480 with 2 Axes>"
      ]
     },
     "metadata": {},
     "output_type": "display_data"
    }
   ],
   "source": [
    "import numpy as np\n",
    "import simpleaudio as sa\n",
    "import matplotlib.pyplot as plt\n",
    "# calculate note frequencies Hertz\n",
    "A_freq = 240\n",
    "Csh_freq = A_freq * 2 ** (4 / 12)\n",
    "\n",
    "E_freq = A_freq * 2 ** (7 / 12)\n",
    "print(Csh_freq)\n",
    "print(E_freq)\n",
    "\n",
    "# get timesteps for each sample, T is note duration in seconds\n",
    "sample_rate = 44100\n",
    "T = 1.0\n",
    "t = np.linspace(0, T, int(T * sample_rate), False)\n",
    "\n",
    "# generate sine wave notes\n",
    "A_note = np.sin(A_freq * t * 2 * np.pi)\n",
    "Csh_note = np.sin(Csh_freq * t * 2 * np.pi)\n",
    "E_note = np.sin(E_freq * t * 2 * np.pi)\n",
    "\n",
    "plt.subplot(211)\n",
    "plt.plot(A_note)\n",
    "\n",
    "# concatenate notes\n",
    "audio = np.hstack((A_note, Csh_note,E_note))\n",
    "#print(audio)\n",
    "\n",
    "# normalize audio to desired volume (0.5 is half volume)\n",
    "volume = 0.5\n",
    "audio *= volume\n",
    "\n",
    "# normalize to 16-bit range\n",
    "audio *= 32767 / 1 * np.max(np.abs(audio))\n",
    "plt.subplot(212)\n",
    "#print(audio)\n",
    "# convert to 16-bit data\n",
    "audio = audio.astype(np.int16)\n",
    "\n",
    "# create stereo signal with zeros\n",
    "stereo_signal = np.zeros([int(sample_rate*T*3),2],dtype=np.int16)   \n",
    "\n",
    "\n",
    "###CHANGE HERE FOR 0 = right, 1 = left\n",
    "stereo_signal[:,0] = audio[:]\n",
    "print(stereo_signal)\n",
    "\n",
    "#print(audio2)\n",
    "plt.plot(audio)\n",
    "# start playback\n",
    "play_obj = sa.play_buffer(stereo_signal, 2, 2, sample_rate)\n",
    "\n",
    "#plt.show()\n",
    "# wait for playback to finish before exiting\n",
    "play_obj.wait_done()"
   ]
  },
  {
   "cell_type": "code",
   "execution_count": null,
   "id": "fd7759f5",
   "metadata": {},
   "outputs": [],
   "source": []
  },
  {
   "cell_type": "code",
   "execution_count": null,
   "id": "11073029",
   "metadata": {},
   "outputs": [],
   "source": []
  }
 ],
 "metadata": {
  "kernelspec": {
   "display_name": "Python 3 (ipykernel)",
   "language": "python",
   "name": "python3"
  },
  "language_info": {
   "codemirror_mode": {
    "name": "ipython",
    "version": 3
   },
   "file_extension": ".py",
   "mimetype": "text/x-python",
   "name": "python",
   "nbconvert_exporter": "python",
   "pygments_lexer": "ipython3",
   "version": "3.11.5"
  }
 },
 "nbformat": 4,
 "nbformat_minor": 5
}
