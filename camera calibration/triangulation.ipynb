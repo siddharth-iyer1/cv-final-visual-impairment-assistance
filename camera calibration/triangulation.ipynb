{
 "cells": [
  {
   "cell_type": "code",
   "execution_count": 5,
   "id": "20b5e1f7",
   "metadata": {},
   "outputs": [],
   "source": [
    "import numpy as np"
   ]
  },
  {
   "cell_type": "code",
   "execution_count": 6,
   "id": "51d16c47",
   "metadata": {},
   "outputs": [
    {
     "name": "stdout",
     "output_type": "stream",
     "text": [
      "[[-1.04514824e+02  5.83464687e+02  1.43107882e+03  5.14537518e+04]\n",
      " [ 1.41473913e+03  3.15313663e+02  1.35762490e+02  3.96420679e+04]\n",
      " [ 2.78339886e-02  9.98727429e-01  4.20569972e-02  7.08113145e+01]]\n"
     ]
    }
   ],
   "source": [
    "camera1 = np.load('camera_matrix_left.npy')\n",
    "camera2 = np.load('camera_matrix_right.npy')\n",
    "print(camera1)"
   ]
  },
  {
   "cell_type": "code",
   "execution_count": 7,
   "id": "a377e20e",
   "metadata": {},
   "outputs": [],
   "source": [
    "def triangulate_point(P1, P2, x1, x2):\n",
    "    # Construct matrix A\n",
    "    A = np.vstack((x1[0]*P1[2] - P1[0],\n",
    "                   x1[1]*P1[2] - P1[1],\n",
    "                   x2[0]*P2[2] - P2[0],\n",
    "                   x2[1]*P2[2] - P2[1]))\n",
    "    \n",
    "    # Perform Singular Value Decomposition (SVD)\n",
    "    _, _, V = np.linalg.svd(A)\n",
    "    \n",
    "    # Extract the last column of V\n",
    "    X = V[-1]\n",
    "    \n",
    "    # Normalize homogeneous coordinates\n",
    "    X /= X[3]\n",
    "    \n",
    "    # Return the Cartesian coordinates\n",
    "    return X[:3]\n",
    "\n"
   ]
  },
  {
   "cell_type": "code",
   "execution_count": 8,
   "id": "9b89b830",
   "metadata": {},
   "outputs": [
    {
     "name": "stdout",
     "output_type": "stream",
     "text": [
      "Triangulated point: [-11.38508505  12.19415547 -52.51250377]\n"
     ]
    }
   ],
   "source": [
    "\n",
    "\n",
    "# Define corresponding image points x1 and x2 (2x1 vectors)\n",
    "x1 = np.random.rand(2, 1)\n",
    "x2 = np.random.rand(2, 1)\n",
    "\n",
    "# Triangulate the 3D point\n",
    "X = triangulate_point(camera1, camera2, x1, x2)\n",
    "print(\"Triangulated point:\", X)\n"
   ]
  },
  {
   "cell_type": "code",
   "execution_count": null,
   "id": "58a8a35f",
   "metadata": {},
   "outputs": [],
   "source": []
  }
 ],
 "metadata": {
  "kernelspec": {
   "display_name": "Python 3 (ipykernel)",
   "language": "python",
   "name": "python3"
  },
  "language_info": {
   "codemirror_mode": {
    "name": "ipython",
    "version": 3
   },
   "file_extension": ".py",
   "mimetype": "text/x-python",
   "name": "python",
   "nbconvert_exporter": "python",
   "pygments_lexer": "ipython3",
   "version": "3.11.5"
  }
 },
 "nbformat": 4,
 "nbformat_minor": 5
}
